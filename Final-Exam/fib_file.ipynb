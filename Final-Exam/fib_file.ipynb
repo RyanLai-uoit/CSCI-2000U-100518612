{
 "cells": [
  {
   "cell_type": "code",
   "execution_count": 2,
   "metadata": {
    "collapsed": true
   },
   "outputs": [],
   "source": [
    "def fib_file(n , fname):\n",
    "    # n - positiv integer\n",
    "    # fname - name of the file you want to output to\n",
    "    # outputs the fibbonacci sequence up to n elements into the file \"fname\"\n",
    "    a=arange(n);\n",
    "    b=fib(n);\n",
    "    f.open(fname+\"_\"+n);\n",
    "    for i in a:\n",
    "        f.addline (a[i]+\"     \"+\"b[i]\");\n",
    "    f.close\n"
   ]
  },
  {
   "cell_type": "code",
   "execution_count": null,
   "metadata": {
    "collapsed": true
   },
   "outputs": [],
   "source": [
    "def fib (n):\n",
    "    list a=[];\n",
    "    if n=0:\n",
    "        a.append(0);\n",
    "    else if n=1:\n",
    "        a.append(1);\n",
    "    else:\n",
    "        a.append(fib(n-1));\n",
    "    return a;\n",
    "    "
   ]
  }
 ],
 "metadata": {
  "kernelspec": {
   "display_name": "Python 3",
   "language": "python",
   "name": "python3"
  },
  "language_info": {
   "codemirror_mode": {
    "name": "ipython",
    "version": 3
   },
   "file_extension": ".py",
   "mimetype": "text/x-python",
   "name": "python",
   "nbconvert_exporter": "python",
   "pygments_lexer": "ipython3",
   "version": "3.4.3"
  }
 },
 "nbformat": 4,
 "nbformat_minor": 0
}
